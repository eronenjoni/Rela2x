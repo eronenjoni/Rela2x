{
 "cells": [
  {
   "cell_type": "markdown",
   "metadata": {},
   "source": [
    "### Example 3 for the usage of Rela²x.\n",
    "### See README.md for more information.\n",
    "\n",
    "- ¹⁴N and two ¹H nuclei.\n",
    "\n",
    "- Dipole-dipole coupling between all of the spins, CSA and quadrupolar interactions on ¹⁴N.\n",
    "\n",
    "- Rank $l = 2$ for the dipole-dipole and quadrupolar interactions. Ranks $l = 0, 1, 2$ for the CSA."
   ]
  },
  {
   "cell_type": "markdown",
   "metadata": {},
   "source": [
    "Import Rela²x (Step 1.)"
   ]
  },
  {
   "cell_type": "code",
   "execution_count": null,
   "metadata": {},
   "outputs": [],
   "source": [
    "from rela2x import *"
   ]
  },
  {
   "cell_type": "markdown",
   "metadata": {},
   "source": [
    "Define the spin system (Step 2.)"
   ]
  },
  {
   "cell_type": "code",
   "execution_count": null,
   "metadata": {},
   "outputs": [],
   "source": [
    "spin_system = ['14N', '1H', '1H']"
   ]
  },
  {
   "cell_type": "markdown",
   "metadata": {},
   "source": [
    "Define the incoherent interactions (Step 4.)"
   ]
  },
  {
   "cell_type": "code",
   "execution_count": null,
   "metadata": {},
   "outputs": [],
   "source": [
    "dd_couplings = [[0, 1, 1],\n",
    "                [0, 0, 1],\n",
    "                [0, 0, 0]]\n",
    "sh_interactions = [1, 0, 0]\n",
    "q_interactions = [1, 0, 0]\n",
    "\n",
    "INCOHERENT_INTERACTIONS = {'CSA': ('1L', sh_interactions, [0, 1, 2]),\n",
    "                             'Q': ('1Q', q_interactions, [2]),\n",
    "                            'DD': ('2', dd_couplings, [2])}"
   ]
  },
  {
   "cell_type": "markdown",
   "metadata": {},
   "source": [
    "Compute the relaxation superoperator in the direct product basis of spherical tensor operators and create a RelaxationSuperoperator object (Step 5.)\n",
    "\n",
    "Use the second version of basis sorting.\n",
    "\n",
    "**Note:** This can take a few minutes due to the large size of the system and the number of different cross terms present."
   ]
  },
  {
   "cell_type": "code",
   "execution_count": null,
   "metadata": {},
   "outputs": [],
   "source": [
    "R = R_object_in_T_basis(spin_system, INCOHERENT_INTERACTIONS, sorting='v2')"
   ]
  },
  {
   "cell_type": "markdown",
   "metadata": {},
   "source": [
    "Visualize $R$ with a bit smaller fontsize. \n",
    "\n",
    "The block-diagonal structure where each block corresponds to different coherence order is clearly visible."
   ]
  },
  {
   "cell_type": "code",
   "execution_count": null,
   "metadata": {},
   "outputs": [],
   "source": [
    "R.visualize(fontsize=6)"
   ]
  },
  {
   "cell_type": "markdown",
   "metadata": {},
   "source": [
    "Check the auto-relaxation rate of $\\hat T_{1-1}^{(1)}$, and the cross-relaxation rate between operators $\\hat T_{10}^{(1)}$ and $\\hat T_{10}^{(1)} \\hat T_{10}^{(2)}$"
   ]
  },
  {
   "cell_type": "code",
   "execution_count": null,
   "metadata": {},
   "outputs": [],
   "source": [
    "rate1 = R.rate('11-1')\n",
    "rate2 = R.rate('110', '110*210')\n",
    "\n",
    "display(rate1)\n",
    "display(rate2)"
   ]
  },
  {
   "cell_type": "markdown",
   "metadata": {},
   "source": [
    "Use isotropic rotational diffusion model in the fast-motion limit and neglect all cross-correlated couplings."
   ]
  },
  {
   "cell_type": "code",
   "execution_count": null,
   "metadata": {},
   "outputs": [],
   "source": [
    "R.to_isotropic_rotational_diffusion(fast_motion_limit=True)"
   ]
  },
  {
   "cell_type": "code",
   "execution_count": null,
   "metadata": {},
   "outputs": [],
   "source": [
    "R.neglect_cross_correlated_terms()"
   ]
  },
  {
   "cell_type": "code",
   "execution_count": null,
   "metadata": {},
   "outputs": [],
   "source": [
    "R.visualize(fontsize=6)"
   ]
  },
  {
   "cell_type": "markdown",
   "metadata": {},
   "source": [
    "Check again the auto-relaxation rate of $\\hat T_{1-1}^{(1)}$, and the cross-relaxation rate between operators $\\hat T_{10}^{(1)}$ and $\\hat T_{10}^{(1)} \\hat T_{10}^{(2)}$"
   ]
  },
  {
   "cell_type": "code",
   "execution_count": null,
   "metadata": {},
   "outputs": [],
   "source": [
    "rate1 = R.rate('11-1')\n",
    "rate2 = R.rate('110', '110*210')\n",
    "\n",
    "display(rate1)\n",
    "display(rate2)"
   ]
  },
  {
   "cell_type": "markdown",
   "metadata": {},
   "source": [
    "Filter out coherences other than 0"
   ]
  },
  {
   "cell_type": "code",
   "execution_count": null,
   "metadata": {},
   "outputs": [],
   "source": [
    "R.filter_out('c', [0])"
   ]
  },
  {
   "cell_type": "code",
   "execution_count": null,
   "metadata": {},
   "outputs": [],
   "source": [
    "R.visualize(basis_symbols=R.basis_symbols, fontsize=5)"
   ]
  }
 ],
 "metadata": {
  "kernelspec": {
   "display_name": "base",
   "language": "python",
   "name": "python3"
  },
  "language_info": {
   "codemirror_mode": {
    "name": "ipython",
    "version": 3
   },
   "file_extension": ".py",
   "mimetype": "text/x-python",
   "name": "python",
   "nbconvert_exporter": "python",
   "pygments_lexer": "ipython3",
   "version": "3.11.5"
  }
 },
 "nbformat": 4,
 "nbformat_minor": 2
}
