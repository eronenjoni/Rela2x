{
 "cells": [
  {
   "cell_type": "markdown",
   "metadata": {},
   "source": [
    "### Example 1 for the usage of Rela²x. \n",
    "### See README.md for more information.\n",
    "\n",
    "- Single ¹H nucleus.\n",
    "\n",
    "- CSA interaction.\n",
    "\n",
    "- Rank $l = 2$."
   ]
  },
  {
   "cell_type": "markdown",
   "metadata": {},
   "source": [
    "Import Rela²x (Step 1.)"
   ]
  },
  {
   "cell_type": "code",
   "execution_count": null,
   "metadata": {},
   "outputs": [],
   "source": [
    "from rela2x import *"
   ]
  },
  {
   "cell_type": "markdown",
   "metadata": {},
   "source": [
    "Define the spin system (Step 2.)"
   ]
  },
  {
   "cell_type": "code",
   "execution_count": null,
   "metadata": {},
   "outputs": [],
   "source": [
    "spin_system = ['1H']"
   ]
  },
  {
   "cell_type": "markdown",
   "metadata": {},
   "source": [
    "Define the incoherent interactions (Step 4.)"
   ]
  },
  {
   "cell_type": "code",
   "execution_count": null,
   "metadata": {},
   "outputs": [],
   "source": [
    "INCOHERENT_INTERACTIONS = {\n",
    "                          'CSA': ('SL', [1], [2])\n",
    "                          }"
   ]
  },
  {
   "cell_type": "markdown",
   "metadata": {},
   "source": [
    "Compute the relaxation superoperator in the direct product basis of spherical tensor operators and create a RelaxationSuperoperator object (Step 5.)"
   ]
  },
  {
   "cell_type": "code",
   "execution_count": null,
   "metadata": {},
   "outputs": [],
   "source": [
    "R, T_basis, T_symbols = R_object_and_T_basis(spin_system, INCOHERENT_INTERACTIONS)"
   ]
  },
  {
   "cell_type": "markdown",
   "metadata": {},
   "source": [
    "Display $R$ and visualize."
   ]
  },
  {
   "cell_type": "code",
   "execution_count": null,
   "metadata": {},
   "outputs": [],
   "source": [
    "display(R.op)\n",
    "R.visualize(basis_symbols=T_symbols)"
   ]
  },
  {
   "cell_type": "markdown",
   "metadata": {},
   "source": [
    "Compute the equations of motion and save in LaTeX format (Steps 6. and 7.)\n",
    "\n",
    "(Remove the comment if you want to save the file)"
   ]
  },
  {
   "cell_type": "code",
   "execution_count": null,
   "metadata": {},
   "outputs": [],
   "source": [
    "eoms = ime_equations_of_motion(R.op, T_symbols)\n",
    "display(eoms)\n",
    "# equations_of_motion_to_latex(eoms, 'dd_test')"
   ]
  },
  {
   "cell_type": "markdown",
   "metadata": {},
   "source": [
    "Do the same calculation but now using the quantum mechanical formalism of relaxation."
   ]
  },
  {
   "cell_type": "code",
   "execution_count": null,
   "metadata": {},
   "outputs": [],
   "source": [
    "# Set quantum mechanical/Lindbladian relaxation theory\n",
    "set_relaxation_theory('qm')\n",
    "\n",
    "# Compute T product basis and the relaxation superoperator\n",
    "R, T_basis, T_symbols = R_object_and_T_basis(spin_system, INCOHERENT_INTERACTIONS)\n",
    "# Simplify R because of the thermal corrections\n",
    "R.op = R.op.applyfunc(lambda x: x.simplify())\n",
    "\n",
    "# Display and visualize\n",
    "display(R.op)\n",
    "R.visualize(basis_symbols=T_symbols)\n",
    "\n",
    "# Compute the equations of motion\n",
    "eoms = lindblad_equations_of_motion(R.op, T_symbols)\n",
    "display(eoms)\n",
    "# equations_of_motion_to_latex(eoms, 'dd_test')"
   ]
  }
 ],
 "metadata": {
  "kernelspec": {
   "display_name": "Python 3 (ipykernel)",
   "language": "python",
   "name": "python3"
  },
  "language_info": {
   "codemirror_mode": {
    "name": "ipython",
    "version": 3
   },
   "file_extension": ".py",
   "mimetype": "text/x-python",
   "name": "python",
   "nbconvert_exporter": "python",
   "pygments_lexer": "ipython3",
   "version": "3.11.5"
  }
 },
 "nbformat": 4,
 "nbformat_minor": 4
}
