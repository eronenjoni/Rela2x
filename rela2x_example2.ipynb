{
 "cells": [
  {
   "cell_type": "markdown",
   "metadata": {},
   "source": [
    "### Example 2 for the usage of Rela²x. \n",
    "### See README.md for more information.\n",
    "\n",
    "- Spin-1/2 and spin-1 nuclei\n",
    "\n",
    "- AX system\n",
    "\n",
    "- DD coupling + quadrupolar and shielding interactions on spin-1 nucleus\n",
    "\n",
    "- Rank $l = 2$ for the DD and quadrupolar interactions, and ranks $l = 0, 1, 2$ for the shielding interaction.\n",
    "\n",
    "Here the convenient `sop_R_in_T_basis` function is used.\n",
    "\n",
    "#"
   ]
  },
  {
   "cell_type": "code",
   "execution_count": null,
   "metadata": {},
   "outputs": [],
   "source": [
    "from rela2x import *"
   ]
  },
  {
   "cell_type": "markdown",
   "metadata": {},
   "source": [
    "Define the spin system."
   ]
  },
  {
   "cell_type": "code",
   "execution_count": null,
   "metadata": {},
   "outputs": [],
   "source": [
    "S = [1/2, 1]"
   ]
  },
  {
   "cell_type": "markdown",
   "metadata": {},
   "source": [
    "Define the incoherent interactions."
   ]
  },
  {
   "cell_type": "code",
   "execution_count": null,
   "metadata": {},
   "outputs": [],
   "source": [
    "dd_couplings = [[0, 1],\n",
    "                [0, 0]]\n",
    "sh_interactions = [0, 1]\n",
    "q_interactions = [0, 1]\n",
    "\n",
    "INCOHERENT_INTERACTIONS = {'DD': ('D', dd_couplings, [2]),\n",
    "                           'SH': ('SL', sh_interactions, [0, 1, 2]),\n",
    "                            'Q': ('SQ', q_interactions, [2])}"
   ]
  },
  {
   "cell_type": "markdown",
   "metadata": {},
   "source": [
    "Compute the relaxation superoperator $R$ with sorting version 2, as well as the STO basis and symbols."
   ]
  },
  {
   "cell_type": "code",
   "execution_count": null,
   "metadata": {},
   "outputs": [],
   "source": [
    "R, T_basis, T_symbols = sop_R_in_T_basis(S, INCOHERENT_INTERACTIONS, sorting='v2')"
   ]
  },
  {
   "cell_type": "markdown",
   "metadata": {},
   "source": [
    "Visualize $R$."
   ]
  },
  {
   "cell_type": "code",
   "execution_count": null,
   "metadata": {},
   "outputs": [],
   "source": [
    "R.visualize(basis_symbols=T_symbols, fontsize=8)"
   ]
  },
  {
   "cell_type": "markdown",
   "metadata": {},
   "source": [
    "Neglect all cross-correlated terms."
   ]
  },
  {
   "cell_type": "code",
   "execution_count": null,
   "metadata": {},
   "outputs": [],
   "source": [
    "R.neglect_ALL_cross_correlated_terms()\n",
    "R.visualize(basis_symbols=T_symbols, fontsize=8)"
   ]
  },
  {
   "cell_type": "markdown",
   "metadata": {},
   "source": [
    "Use isotropic rotational diffusion model in the fast-motion limit."
   ]
  },
  {
   "cell_type": "code",
   "execution_count": null,
   "metadata": {},
   "outputs": [],
   "source": [
    "R.to_isotropic_rotational_diffusion(fast_motion_limit=True)\n",
    "# display(R.op)"
   ]
  },
  {
   "cell_type": "markdown",
   "metadata": {},
   "source": [
    "Check the auto-relaxation rate of operator 6."
   ]
  },
  {
   "cell_type": "code",
   "execution_count": null,
   "metadata": {},
   "outputs": [],
   "source": [
    "display(R.op[5, 5])"
   ]
  },
  {
   "cell_type": "markdown",
   "metadata": {},
   "source": [
    "Compute the EOMs. Display rows 4–9 (and save by removing comment)."
   ]
  },
  {
   "cell_type": "code",
   "execution_count": null,
   "metadata": {},
   "outputs": [],
   "source": [
    "eoms = ime_equations_of_motion(R.op, T_symbols, operator_indexes=range(3, 8))\n",
    "display(eoms)\n",
    "# equations_of_motion_to_latex(eoms, 'dd-sh-q_test')"
   ]
  }
 ],
 "metadata": {
  "kernelspec": {
   "display_name": "base",
   "language": "python",
   "name": "python3"
  },
  "language_info": {
   "codemirror_mode": {
    "name": "ipython",
    "version": 3
   },
   "file_extension": ".py",
   "mimetype": "text/x-python",
   "name": "python",
   "nbconvert_exporter": "python",
   "pygments_lexer": "ipython3",
   "version": "3.11.5"
  }
 },
 "nbformat": 4,
 "nbformat_minor": 2
}
